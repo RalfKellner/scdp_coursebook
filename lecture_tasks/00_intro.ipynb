{
 "cells": [
  {
   "cell_type": "code",
   "execution_count": 1,
   "metadata": {},
   "outputs": [],
   "source": [
    "# Define a variable a with a value of 42 and a variable b with a value of 10\n",
    "# use print to return the result for the sum of a and b"
   ]
  },
  {
   "cell_type": "code",
   "execution_count": 2,
   "metadata": {},
   "outputs": [],
   "source": [
    "# import the package numpy as np and determine the square root for the sum of a and b"
   ]
  },
  {
   "cell_type": "code",
   "execution_count": 3,
   "metadata": {},
   "outputs": [],
   "source": [
    "# define a variable mood which can be set to a string that you like\n",
    "# define an if-else statement which returns a string \"That's great, good for you!\" if the mood is a string called \"good\" and \"What a shame, but it will get better\" else."
   ]
  },
  {
   "cell_type": "code",
   "execution_count": 4,
   "metadata": {},
   "outputs": [],
   "source": [
    "# define a list with the sequence 1, 2, 3, 4 and give it a meaningful name\n",
    "# practice to select a specific value, e.g., the second value\n",
    "# practice to select second last value\n",
    "# reverse the order of the list  "
   ]
  },
  {
   "cell_type": "code",
   "execution_count": 5,
   "metadata": {},
   "outputs": [],
   "source": [
    "# define a list and a tuple each with the sequence 1, 0, 3\n",
    "# change the second element of the list to the value 2\n",
    "# try the same for the list, what happens?"
   ]
  },
  {
   "cell_type": "code",
   "execution_count": null,
   "metadata": {},
   "outputs": [
    {
     "name": "stdout",
     "output_type": "stream",
     "text": [
      "{'Albus': 83, 'Harry': 12, 'Severus': 52, 'Ron': 13}\n"
     ]
    }
   ],
   "source": [
    "names = [\"Albus\", \"Harry\", \"Severus\", \"Ron\"]\n",
    "age_in_years = [83, 12, 52, 13]\n",
    "\n",
    "# create a dictionary \"by hand\" which uses the names as a key and the age as a value for each character\n",
    "manual_dict = {}\n",
    "\n",
    "# create the same dictionary with a dictionary comprehension and zip to iterate through both lists, first check help(zip) to understand it\n",
    "# If you want, try to do this by asking a generative AI\n",
    "# dict_by_comprehension = \n"
   ]
  },
  {
   "cell_type": "code",
   "execution_count": 6,
   "metadata": {},
   "outputs": [],
   "source": [
    "# see help(range) first\n",
    "# use it to iterate through the numbers 2 until 20 with step size 2, e.g., 2, 4, 6, ... and print them\n",
    "# make sure that 10 and 14 are not printed"
   ]
  },
  {
   "cell_type": "code",
   "execution_count": 7,
   "metadata": {},
   "outputs": [],
   "source": [
    "# define a function say_hello_name which receives a name in string format and returns \"Hello \" and the name"
   ]
  }
 ],
 "metadata": {
  "kernelspec": {
   "display_name": ".venv",
   "language": "python",
   "name": "python3"
  },
  "language_info": {
   "codemirror_mode": {
    "name": "ipython",
    "version": 3
   },
   "file_extension": ".py",
   "mimetype": "text/x-python",
   "name": "python",
   "nbconvert_exporter": "python",
   "pygments_lexer": "ipython3",
   "version": "3.13.1"
  }
 },
 "nbformat": 4,
 "nbformat_minor": 2
}
