{
 "cells": [
  {
   "cell_type": "markdown",
   "metadata": {},
   "source": [
    "* create nice and meaningful financial plots\n",
    "    * histogram with kernel and normal density using seaborn\n",
    "    * pairwise scatterplots between company and market index\n",
    "    * pariwise scatterplots between multiple companies using seaborn\n",
    "    * stock price, return, absolute return volume, OHLC charts\n",
    "    * correlation heatmap"
   ]
  }
 ],
 "metadata": {
  "language_info": {
   "name": "python"
  }
 },
 "nbformat": 4,
 "nbformat_minor": 2
}
