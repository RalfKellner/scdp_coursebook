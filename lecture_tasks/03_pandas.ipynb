{
 "cells": [
  {
   "cell_type": "markdown",
   "metadata": {},
   "source": [
    "* import csv with stock market data\n",
    "* indexing and multi-index\n",
    "* work with datetime index\n",
    "* calculate returns\n",
    "* calculate portfolio returns\n",
    "* transform to log_returns\n",
    "* visualize distributions\n",
    "* visualize returns, abs returns, stock price in one df"
   ]
  }
 ],
 "metadata": {
  "language_info": {
   "name": "python"
  }
 },
 "nbformat": 4,
 "nbformat_minor": 2
}
