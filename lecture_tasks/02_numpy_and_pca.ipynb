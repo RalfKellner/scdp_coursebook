{
 "cells": [
  {
   "cell_type": "markdown",
   "metadata": {},
   "source": [
    "* conduct pca \n",
    "* determine pca scores as risk factors\n",
    "* statistical factor regression for stocks"
   ]
  }
 ],
 "metadata": {
  "language_info": {
   "name": "python"
  }
 },
 "nbformat": 4,
 "nbformat_minor": 2
}
