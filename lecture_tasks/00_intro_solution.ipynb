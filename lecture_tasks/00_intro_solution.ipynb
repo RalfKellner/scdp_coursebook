{
 "cells": [
  {
   "cell_type": "code",
   "execution_count": 17,
   "metadata": {},
   "outputs": [
    {
     "name": "stdout",
     "output_type": "stream",
     "text": [
      "52\n"
     ]
    }
   ],
   "source": [
    "# Define a variable a with a value of 42 and a variable b with a value of 10\n",
    "# use print to return the result for the sum of a and b\n",
    "\n",
    "a = 42\n",
    "b = 10\n",
    "print(a + b)"
   ]
  },
  {
   "cell_type": "code",
   "execution_count": 23,
   "metadata": {},
   "outputs": [
    {
     "name": "stdout",
     "output_type": "stream",
     "text": [
      "The result for the square root is: 7.2111\n"
     ]
    }
   ],
   "source": [
    "# import the package numpy as np and determine the square root for the sum of a and b\n",
    "import numpy as np\n",
    "\n",
    "result = np.sqrt(a + b)\n",
    "print(f\"The result for the square root is: {result:.4f}\")"
   ]
  },
  {
   "cell_type": "code",
   "execution_count": 31,
   "metadata": {},
   "outputs": [
    {
     "name": "stdout",
     "output_type": "stream",
     "text": [
      "That's great, good for you!\n"
     ]
    }
   ],
   "source": [
    "# define a variable mood which can be set to a string that you like\n",
    "# define an if-else statement which returns a string \"That's great, good for you!\" if the mood is a string called \"good\" and \"What a shame, but it will get better\" else.\n",
    "\n",
    "mood = \"good\"\n",
    "\n",
    "if mood == \"good\":\n",
    "    print(\"That's great, good for you!\")\n",
    "else:\n",
    "    print(\"What a shame, but it will get better\")"
   ]
  },
  {
   "cell_type": "code",
   "execution_count": 37,
   "metadata": {},
   "outputs": [
    {
     "name": "stdout",
     "output_type": "stream",
     "text": [
      "2\n",
      "3\n",
      "[4, 3, 2, 1]\n"
     ]
    }
   ],
   "source": [
    "# define a list with the sequence 1, 2, 3, 4 and give it a meaningful name\n",
    "# practice to select a specific value, e.g., the second value\n",
    "# practice to select second last value\n",
    "# reverse the order of the list  \n",
    "\n",
    "my_list = [1, 2, 3, 4]\n",
    "print(my_list[1])\n",
    "print(my_list[-2])\n",
    "print(my_list[::-1] )"
   ]
  },
  {
   "cell_type": "code",
   "execution_count": 45,
   "metadata": {},
   "outputs": [
    {
     "name": "stdout",
     "output_type": "stream",
     "text": [
      "[1, 2, 3]\n"
     ]
    },
    {
     "ename": "TypeError",
     "evalue": "'tuple' object does not support item assignment",
     "output_type": "error",
     "traceback": [
      "\u001b[31m---------------------------------------------------------------------------\u001b[39m",
      "\u001b[31mTypeError\u001b[39m                                 Traceback (most recent call last)",
      "\u001b[36mCell\u001b[39m\u001b[36m \u001b[39m\u001b[32mIn[45]\u001b[39m\u001b[32m, line 11\u001b[39m\n\u001b[32m      8\u001b[39m my_list[\u001b[32m1\u001b[39m] = \u001b[32m2\u001b[39m\n\u001b[32m      9\u001b[39m \u001b[38;5;28mprint\u001b[39m(my_list)\n\u001b[32m---> \u001b[39m\u001b[32m11\u001b[39m \u001b[43mmy_tuple\u001b[49m\u001b[43m[\u001b[49m\u001b[32;43m1\u001b[39;49m\u001b[43m]\u001b[49m = \u001b[32m2\u001b[39m\n",
      "\u001b[31mTypeError\u001b[39m: 'tuple' object does not support item assignment"
     ]
    }
   ],
   "source": [
    "# define a list and a tuple each with the sequence 1, 0, 3\n",
    "# change the second element of the list to the value 2\n",
    "# try the same for the list, what happens?\n",
    "\n",
    "my_list = [1, 0, 3]\n",
    "my_tuple = (1, 0, 3)\n",
    "\n",
    "my_list[1] = 2\n",
    "print(my_list)\n",
    "\n",
    "my_tuple[1] = 2"
   ]
  },
  {
   "cell_type": "code",
   "execution_count": null,
   "metadata": {},
   "outputs": [
    {
     "name": "stdout",
     "output_type": "stream",
     "text": [
      "{'Albus': 83, 'Harry': 12, 'Severus': 52, 'Ron': 13}\n"
     ]
    }
   ],
   "source": [
    "names = [\"Albus\", \"Harry\", \"Severus\", \"Ron\"]\n",
    "age_in_years = [83, 12, 52, 13]\n",
    "\n",
    "# create a dictionary \"by hand\" which uses the names as a key and the age as a value for each character\n",
    "manual_dict = {}\n",
    "#for i in range(len(names)):\n",
    "#    manual_dict[names[i]] = age_in_years[i]\n",
    "#for name, age in zip(names, age_in_years):\n",
    "#    manual_dict[name] = age\n",
    "\n",
    "# create the same dictionary with a dictionary comprehension and zip to iterate through both lists, first check help(zip) to understand it\n",
    "# If you want, try to do this by asking a generative AI\n",
    "# dict_by_comprehension = \n",
    "\n",
    "names = [\"Albus\", \"Harry\", \"Severus\", \"Ron\"]\n",
    "age_in_years = [83, 12, 52, 13]\n",
    "\n",
    "manual_dict = {name: age for name, age in zip(names, age_in_years)}\n",
    "print(manual_dict)"
   ]
  },
  {
   "cell_type": "code",
   "execution_count": 72,
   "metadata": {},
   "outputs": [
    {
     "name": "stdout",
     "output_type": "stream",
     "text": [
      "2\n",
      "4\n",
      "6\n",
      "8\n",
      "12\n",
      "16\n",
      "18\n",
      "20\n"
     ]
    }
   ],
   "source": [
    "# see help(range) first\n",
    "# use it to iterate through the numbers 2 until 20 with step size 2, e.g., 2, 4, 6, ... and print them\n",
    "# make sure that 10 and 14 are not printed\n",
    "\n",
    "for i in range(2, 21, 2):\n",
    "    if i in [10, 14]:\n",
    "        continue\n",
    "    else:\n",
    "        print(i)"
   ]
  },
  {
   "cell_type": "code",
   "execution_count": 73,
   "metadata": {},
   "outputs": [
    {
     "name": "stdout",
     "output_type": "stream",
     "text": [
      "Hello Ralf\n"
     ]
    }
   ],
   "source": [
    "# define a function say_hello_name which receives a name in string format and returns \"Hello \" and the name\n",
    "def say_hello_name(name):\n",
    "    print(f\"Hello {name}\")\n",
    "\n",
    "say_hello_name(\"Ralf\")"
   ]
  }
 ],
 "metadata": {
  "kernelspec": {
   "display_name": ".venv",
   "language": "python",
   "name": "python3"
  },
  "language_info": {
   "codemirror_mode": {
    "name": "ipython",
    "version": 3
   },
   "file_extension": ".py",
   "mimetype": "text/x-python",
   "name": "python",
   "nbconvert_exporter": "python",
   "pygments_lexer": "ipython3",
   "version": "3.13.1"
  }
 },
 "nbformat": 4,
 "nbformat_minor": 2
}
