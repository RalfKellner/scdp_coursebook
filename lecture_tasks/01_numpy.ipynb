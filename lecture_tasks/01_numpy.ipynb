{
 "cells": [
  {
   "cell_type": "code",
   "execution_count": 6,
   "metadata": {},
   "outputs": [],
   "source": [
    "# create a list with integers from 1 to 5 called my_list\n",
    "# multiply each element with the value 3 using either a loop or a list comprehension and save the result under a new variable"
   ]
  },
  {
   "cell_type": "code",
   "execution_count": 5,
   "metadata": {},
   "outputs": [],
   "source": [
    "# import numpy as np and create a numpy array called my_array out of my_list from the cell before\n",
    "# multiply each element of my_array with the value of 3"
   ]
  },
  {
   "cell_type": "code",
   "execution_count": 4,
   "metadata": {},
   "outputs": [],
   "source": [
    "# create a numpy array called x with numbers from 1 to 6 using the arange method\n",
    "# create a 2x3 matrix X by rehaping the array x\n",
    "# determine the row- and column-wise average of X"
   ]
  },
  {
   "cell_type": "code",
   "execution_count": 70,
   "metadata": {},
   "outputs": [],
   "source": [
    "# create an array y out of the last two elements of x from before\n",
    "# do this in a way such that y gets not changed once you change the last two elements of x\n",
    "# examine if this works"
   ]
  },
  {
   "cell_type": "markdown",
   "metadata": {},
   "source": [
    "### Portfolio optimization\n",
    "\n",
    "The weights for a **minimum variance portfolio** for a set of assets can be determined by:\n",
    "\n",
    "$$\n",
    "w_{\\text{mvp}} = \\frac{\\Sigma^{-1} \\mathbf{1}}{\\mathbf{1}^\\top \\Sigma^{-1} \\mathbf{1}}\n",
    "$$\n",
    "\n",
    "- $\\Sigma$ is the $n \\times n$ covariance matrix  \n",
    "- $\\mathbf{1}$ is a vector of ones with dimension $n$\n",
    "\n",
    "The code below downloads close prices of three stock market listed companies and determines their discrete returns.\n",
    "\n",
    "1. Estimate the covariance matrix of the returns.\n",
    "2. Determine its determinant and evaluate if it is different from zero.\n",
    "3. If the determinant is different from zero determine the inverse matrix of $\\Sigma$.\n",
    "4. Determine the weights of the minimum variance portfolio.\n",
    "5. Determine the eigenvalues and eigenvectors of $\\Sigma$.\n",
    "6. Determine the trace of the covariance matrix by using the trace method, find out what the trace operations calculates.\n",
    "7. Is the trace of the covariance matrix equal to the sum of its eigenvalues?"
   ]
  },
  {
   "cell_type": "code",
   "execution_count": null,
   "metadata": {},
   "outputs": [
    {
     "name": "stderr",
     "output_type": "stream",
     "text": [
      "[*********************100%***********************]  3 of 3 completed\n"
     ]
    }
   ],
   "source": [
    "import yfinance as yf\n",
    "\n",
    "tickers = [\"AAPL\", \"MSFT\", \"WMT\"]\n",
    "close_prices = yf.download(tickers, start = \"2023-01-01\", end = \"2025-04-30\")[\"Close\"]\n",
    "returns = close_prices.pct_change().dropna().values"
   ]
  },
  {
   "cell_type": "markdown",
   "metadata": {},
   "source": [
    "### Solve a linear equation system\n",
    "\n",
    "Let:\n",
    "\n",
    "- x = kg of Blend A\n",
    "- y = kg of Blend B\n",
    "\n",
    "We now have two equations:\n",
    "    \n",
    "1.\tTotal weight:\n",
    "$$\n",
    "x + y = 10\n",
    "$$\n",
    "2.\tTotal cost (price × weight = total price):\n",
    "$$\n",
    "10x + 15y = 12 \\times 10 = 120\n",
    "$$\n",
    "Which gives:\n",
    "$$\n",
    "\\begin{aligned}\n",
    "x + y &= 10 \\\\\n",
    "10x + 15y &= 120\n",
    "\\end{aligned}\n",
    "$$\n",
    "\n",
    "Define the matrix $A$ and the vector $b$ and solve the linear equation system with numpy. Verify the solution by multiplying the matrix $A$ with the solution vector and see if this delivers $b$."
   ]
  },
  {
   "cell_type": "markdown",
   "metadata": {},
   "source": [
    "### Calculate the linear regression OLS estimator\n",
    "\n",
    "For a linear regression model:\n",
    "\n",
    "$$\n",
    "Y = \\beta_0 + \\beta_1 X_1 + ... + \\beta_p X_p + \\epsilon\n",
    "$$\n",
    "\n",
    "the paramters $\\beta_0, ..., \\beta_p$ can be estimated by the OLS estimator:\n",
    "\n",
    "$$\n",
    "\\hat{\\mathbf{\\beta}} = \\left( X^T X \\right)^{-1} X^T y\n",
    "$$\n",
    "\n",
    "which includes matrix operations and matrix inversion. See the data below and try to calculate $\\hat{\\mathbf{\\beta}}$ for yourself. If you want to, you can do this step by step, i.e.:\n",
    "\n",
    "1. $X^T X$\n",
    "2. $\\left( X^T X \\right)^{-1}$\n",
    "3. $\\left( X^T X \\right)^{-1} X^T$\n",
    "4. $\\left( X^T X \\right)^{-1} X^T y$"
   ]
  },
  {
   "cell_type": "code",
   "execution_count": 32,
   "metadata": {},
   "outputs": [
    {
     "name": "stdout",
     "output_type": "stream",
     "text": [
      "Indepenent variables:\n",
      "[[1.         3.74540119 0.10292247]\n",
      " [1.         9.50714306 4.84954926]\n",
      " [1.         7.31993942 4.1622132 ]\n",
      " [1.         5.98658484 1.06169555]\n",
      " [1.         1.5601864  0.90912484]\n",
      " [1.         1.5599452  0.91702255]\n",
      " [1.         0.58083612 1.52121121]\n",
      " [1.         8.66176146 2.62378216]\n",
      " [1.         6.01115012 2.15972509]\n",
      " [1.         7.08072578 1.4561457 ]]\n",
      "Dependent variable:\n",
      "[ 6.53322493 13.18027745  9.15833581  8.82438667  5.16954099  3.47222572\n",
      "  1.87393454 11.73124649  8.96053489 11.71270927]\n"
     ]
    }
   ],
   "source": [
    "import numpy as np\n",
    "import pandas as pd\n",
    "\n",
    "# Set seed for reproducibility\n",
    "np.random.seed(42)\n",
    "\n",
    "# Generate 10 observations for two continuous independent variables\n",
    "x1 = np.random.uniform(0, 10, 10)\n",
    "x2 = np.random.uniform(0, 5, 10)\n",
    "\n",
    "# True coefficients\n",
    "beta_0 = 2.0   # intercept\n",
    "beta_1 = 1.5   # coefficient for x1\n",
    "beta_2 = -0.7  # coefficient for x2\n",
    "\n",
    "# Generate y with some random noise\n",
    "noise = np.random.normal(0, 1, 10)\n",
    "y = beta_0 + beta_1 * x1 + beta_2 * x2 + noise\n",
    "\n",
    "# data \n",
    "X = np.column_stack((np.ones(len(x1)), x1, x2))\n",
    "\n",
    "print(\"Indepenent variables:\")\n",
    "print(X)\n",
    "print(\"Dependent variable:\")\n",
    "print(y)"
   ]
  }
 ],
 "metadata": {
  "kernelspec": {
   "display_name": ".venv",
   "language": "python",
   "name": "python3"
  },
  "language_info": {
   "codemirror_mode": {
    "name": "ipython",
    "version": 3
   },
   "file_extension": ".py",
   "mimetype": "text/x-python",
   "name": "python",
   "nbconvert_exporter": "python",
   "pygments_lexer": "ipython3",
   "version": "3.13.1"
  }
 },
 "nbformat": 4,
 "nbformat_minor": 2
}
