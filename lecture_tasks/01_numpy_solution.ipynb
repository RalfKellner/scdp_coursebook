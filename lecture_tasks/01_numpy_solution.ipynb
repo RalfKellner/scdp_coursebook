{
 "cells": [
  {
   "cell_type": "code",
   "execution_count": 1,
   "metadata": {},
   "outputs": [],
   "source": [
    "import numpy as np"
   ]
  },
  {
   "cell_type": "code",
   "execution_count": 3,
   "metadata": {},
   "outputs": [
    {
     "name": "stdout",
     "output_type": "stream",
     "text": [
      "[1, 2, 3, 4, 5]\n",
      "[3, 6, 9, 12, 15]\n"
     ]
    }
   ],
   "source": [
    "# create a list with integers from 1 to 5 called my_list\n",
    "# multiply each element with the value 3 using either a loop or a list comprehension and save the result under a new variable\n",
    "my_list = list(range(1, 6, 1))\n",
    "my_list_times_three = [i * 3 for i in my_list]\n",
    "print(my_list)\n",
    "print(my_list_times_three)"
   ]
  },
  {
   "cell_type": "code",
   "execution_count": 5,
   "metadata": {},
   "outputs": [
    {
     "data": {
      "text/plain": [
       "array([ 3,  6,  9, 12, 15])"
      ]
     },
     "execution_count": 5,
     "metadata": {},
     "output_type": "execute_result"
    }
   ],
   "source": [
    "# import numpy as np and create a numpy array called my_array out of my_list from the cell before\n",
    "# multiply each element of my_array with the value of 3\n",
    "my_array = np.array(my_list)\n",
    "my_array * 3"
   ]
  },
  {
   "cell_type": "code",
   "execution_count": 9,
   "metadata": {},
   "outputs": [
    {
     "name": "stdout",
     "output_type": "stream",
     "text": [
      "Vector:\n",
      "[1 2 3 4 5 6]\n",
      "Matrix:\n",
      "[[1 2 3]\n",
      " [4 5 6]]\n",
      "Columnwise mean:\n",
      "[2.5 3.5 4.5]\n",
      "Rowwise mean:\n",
      "[2. 5.]\n"
     ]
    }
   ],
   "source": [
    "# create a numpy array called x with numbers from 1 to 6 using the arange method\n",
    "# create a 2x3 matrix X by rehaping the array x\n",
    "# determine the row- and column-wise average of X\n",
    "x = np.arange(1, 7, 1)\n",
    "X = x.reshape(2, 3)\n",
    "print(\"Vector:\")\n",
    "print(x)\n",
    "print(\"Matrix:\")\n",
    "print(X)\n",
    "print(\"Columnwise mean:\")\n",
    "print(X.mean(axis = 0))\n",
    "print(\"Rowwise mean:\")\n",
    "print(X.mean(axis = 1))"
   ]
  },
  {
   "cell_type": "code",
   "execution_count": 11,
   "metadata": {},
   "outputs": [
    {
     "name": "stdout",
     "output_type": "stream",
     "text": [
      "x before change: [1 2 3 4 5 6]\n",
      "x after change: [1 2 3 4 1 2]\n",
      "y after the change of x: [5 6]\n"
     ]
    }
   ],
   "source": [
    "import numpy as np\n",
    "# create an array y out of the last two elements of x from before\n",
    "# do this in a way such that y gets not changed once you change the last two elements of x\n",
    "# examine if this works\n",
    "x = np.arange(1, 7, 1)\n",
    "print(f\"x before change: {x}\")\n",
    "y = x[-2:].copy()\n",
    "x[-2:] = [1, 2]\n",
    "print(f\"x after change: {x}\")\n",
    "print(f\"y after the change of x: {y}\")"
   ]
  },
  {
   "cell_type": "markdown",
   "metadata": {},
   "source": [
    "### Portfolio optimization\n",
    "\n",
    "The weights for a **minimum variance portfolio** for a set of assets can be determined by:\n",
    "\n",
    "$$\n",
    "w_{\\text{mvp}} = \\frac{\\Sigma^{-1} \\mathbf{1}}{\\mathbf{1}^\\top \\Sigma^{-1} \\mathbf{1}}\n",
    "$$\n",
    "\n",
    "- $\\Sigma$ is the $n \\times n$ covariance matrix  \n",
    "- $\\mathbf{1}$ is a vector of ones with dimension $n$\n",
    "\n",
    "The code below downloads close prices of three stock market listed companies and determines their discrete returns.\n",
    "\n",
    "1. Estimate the covariance matrix of the returns.\n",
    "2. Determine its determinant and evaluate if it is different from zero.\n",
    "3. If the determinant is different from zero determine the inverse matrix of $\\Sigma$.\n",
    "4. Determine the weights of the minimum variance portfolio.\n",
    "5. Determine the eigenvalues and eigenvectors of $\\Sigma$.\n",
    "6. Determine the trace of the covariance matrix by using the trace method, find out what the trace operations calculates.\n",
    "7. Is the trace of the covariance matrix equal to the sum of its eigenvalues? If not, examine their values and look into the help of np.isclose, this may be helpful."
   ]
  },
  {
   "cell_type": "code",
   "execution_count": null,
   "metadata": {},
   "outputs": [
    {
     "name": "stdout",
     "output_type": "stream",
     "text": [
      "YF.download() has changed argument auto_adjust default to True\n"
     ]
    },
    {
     "name": "stderr",
     "output_type": "stream",
     "text": [
      "[*********************100%***********************]  3 of 3 completed\n"
     ]
    }
   ],
   "source": [
    "import yfinance as yf\n",
    "\n",
    "tickers = [\"AAPL\", \"MSFT\", \"WMT\"]\n",
    "close_prices = yf.download(tickers, start = \"2023-01-01\", end = \"2025-04-30\")[\"Close\"]\n",
    "returns = close_prices.pct_change().dropna().values"
   ]
  },
  {
   "cell_type": "code",
   "execution_count": 3,
   "metadata": {},
   "outputs": [
    {
     "name": "stdout",
     "output_type": "stream",
     "text": [
      "Estimated covariance matrix:\n",
      "[[2.76e-04 1.43e-04 6.70e-05]\n",
      " [1.43e-04 2.34e-04 4.70e-05]\n",
      " [6.70e-05 4.70e-05 1.58e-04]]\n"
     ]
    }
   ],
   "source": [
    "import numpy as np\n",
    "\n",
    "cov_hat = np.cov(returns, rowvar=False)\n",
    "print(\"Estimated covariance matrix:\")\n",
    "print(cov_hat.round(6))"
   ]
  },
  {
   "cell_type": "code",
   "execution_count": 4,
   "metadata": {},
   "outputs": [
    {
     "name": "stdout",
     "output_type": "stream",
     "text": [
      "The determinant of the estimated covariance matrix is different from zero:\n"
     ]
    },
    {
     "data": {
      "text/plain": [
       "np.True_"
      ]
     },
     "execution_count": 4,
     "metadata": {},
     "output_type": "execute_result"
    }
   ],
   "source": [
    "print(\"The determinant of the estimated covariance matrix is different from zero:\")\n",
    "np.linalg.det(cov_hat) != 0"
   ]
  },
  {
   "cell_type": "code",
   "execution_count": 18,
   "metadata": {},
   "outputs": [
    {
     "name": "stdout",
     "output_type": "stream",
     "text": [
      "Inverse estimated covariance matrix:\n",
      "[[ 5585.171562 -3122.179967 -1443.938087]\n",
      " [-3122.179967  6289.679376  -532.016277]\n",
      " [-1443.938087  -532.016277  7099.750499]]\n"
     ]
    }
   ],
   "source": [
    "cov_inv = np.linalg.inv(cov_hat)\n",
    "print(\"Inverse estimated covariance matrix:\")\n",
    "print(cov_inv.round(6))"
   ]
  },
  {
   "cell_type": "code",
   "execution_count": null,
   "metadata": {},
   "outputs": [
    {
     "name": "stdout",
     "output_type": "stream",
     "text": [
      "The weights of the minimum variance portfolio are: [0.1161 0.3002 0.5837]\n"
     ]
    }
   ],
   "source": [
    "ones = np.ones(cov_hat.shape[0])\n",
    "numerator = cov_inv @ ones\n",
    "denominator = ones @ cov_inv @ ones\n",
    "weights = numerator / denominator\n",
    "print(f\"The weights of the minimum variance portfolio are: {weights.round(4)}\")"
   ]
  },
  {
   "cell_type": "code",
   "execution_count": null,
   "metadata": {},
   "outputs": [
    {
     "name": "stdout",
     "output_type": "stream",
     "text": [
      "The eigenvalues of the estimated covariance matrix are: [0.000424 0.000108 0.000136]\n"
     ]
    }
   ],
   "source": [
    "evals, evcs = np.linalg.eig(cov_hat)\n",
    "print(f\"The eigenvalues of the estimated covariance matrix are: {evals.round(6)}\")"
   ]
  },
  {
   "cell_type": "code",
   "execution_count": null,
   "metadata": {},
   "outputs": [
    {
     "name": "stdout",
     "output_type": "stream",
     "text": [
      "The trace of the estimated covariance matrix is: 0.000668\n"
     ]
    }
   ],
   "source": [
    "trace = np.trace(cov_hat)\n",
    "print(f\"The trace of the estimated covariance matrix is: {trace.round(6)}\")"
   ]
  },
  {
   "cell_type": "code",
   "execution_count": 34,
   "metadata": {},
   "outputs": [
    {
     "name": "stdout",
     "output_type": "stream",
     "text": [
      "The trace is equal to the sum of eigenvalues:\n",
      "False\n",
      "True\n"
     ]
    }
   ],
   "source": [
    "print(\"The trace is equal to the sum of eigenvalues:\")\n",
    "print(trace == evals.sum())\n",
    "print(np.isclose(trace, evals.sum()))"
   ]
  },
  {
   "cell_type": "markdown",
   "metadata": {},
   "source": [
    "### Solve a linear equation system\n",
    "\n",
    "Let:\n",
    "\n",
    "- x = kg of Blend A\n",
    "- y = kg of Blend B\n",
    "\n",
    "We now have two equations:\n",
    "    \n",
    "1.\tTotal weight:\n",
    "$$\n",
    "x + y = 10\n",
    "$$\n",
    "2.\tTotal cost (price × weight = total price):\n",
    "$$\n",
    "10x + 15y = 12 \\times 10 = 120\n",
    "$$\n",
    "Which gives:\n",
    "$$\n",
    "\\begin{aligned}\n",
    "x + y &= 10 \\\\\n",
    "10x + 15y &= 120\n",
    "\\end{aligned}\n",
    "$$\n",
    "\n",
    "Define the matrix $A$ and the vector $b$ and solve the linear equation system with numpy. Verify the solution by multiplying the matrix $A$ with the solution vector and see if this delivers $b$."
   ]
  },
  {
   "cell_type": "code",
   "execution_count": 36,
   "metadata": {},
   "outputs": [
    {
     "name": "stdout",
     "output_type": "stream",
     "text": [
      "Blend A (kg): 6.0\n",
      "Blend B (kg): 4.0\n"
     ]
    }
   ],
   "source": [
    "import numpy as np\n",
    "\n",
    "# Coefficient matrix A\n",
    "A = np.array([\n",
    "    [1, 1],        # x + y = 10\n",
    "    [10, 15]       # 10x + 15y = 120\n",
    "])\n",
    "\n",
    "# Right-hand side vector b\n",
    "b = np.array([10, 120])\n",
    "\n",
    "# Solve the system\n",
    "solution = np.linalg.solve(A, b)\n",
    "\n",
    "print(\"Blend A (kg):\", solution[0])\n",
    "print(\"Blend B (kg):\", solution[1])"
   ]
  },
  {
   "cell_type": "code",
   "execution_count": 37,
   "metadata": {},
   "outputs": [
    {
     "data": {
      "text/plain": [
       "array([ 10., 120.])"
      ]
     },
     "execution_count": 37,
     "metadata": {},
     "output_type": "execute_result"
    }
   ],
   "source": [
    "A @ solution"
   ]
  },
  {
   "cell_type": "markdown",
   "metadata": {},
   "source": [
    "### Calculate the linear regression OLS estimator\n",
    "\n",
    "For a linear regression model:\n",
    "\n",
    "$$\n",
    "Y = \\beta_0 + \\beta_1 X_1 + ... + \\beta_p X_p + \\epsilon\n",
    "$$\n",
    "\n",
    "the paramters $\\beta_0, ..., \\beta_p$ can be estimated by the OLS estimator:\n",
    "\n",
    "$$\n",
    "\\hat{\\mathbf{\\beta}} = \\left( X^T X \\right)^{-1} X^T y\n",
    "$$\n",
    "\n",
    "which includes matrix operations and matrix inversion. See the data below and try to calculate $\\hat{\\mathbf{\\beta}}$ for yourself. If you want to, you can do this step by step, i.e.:\n",
    "\n",
    "1. $X^T X$\n",
    "2. $\\left( X^T X \\right)^{-1}$\n",
    "3. $\\left( X^T X \\right)^{-1} X^T$\n",
    "4. $\\left( X^T X \\right)^{-1} X^T y$"
   ]
  },
  {
   "cell_type": "code",
   "execution_count": 40,
   "metadata": {},
   "outputs": [
    {
     "name": "stdout",
     "output_type": "stream",
     "text": [
      "Indepenent variables:\n",
      "[[1.         3.74540119 0.10292247]\n",
      " [1.         9.50714306 4.84954926]\n",
      " [1.         7.31993942 4.1622132 ]\n",
      " [1.         5.98658484 1.06169555]\n",
      " [1.         1.5601864  0.90912484]\n",
      " [1.         1.5599452  0.91702255]\n",
      " [1.         0.58083612 1.52121121]\n",
      " [1.         8.66176146 2.62378216]\n",
      " [1.         6.01115012 2.15972509]\n",
      " [1.         7.08072578 1.4561457 ]]\n",
      "Dependent variable:\n",
      "[ 6.53322493 13.18027745  9.15833581  8.82438667  5.16954099  3.47222572\n",
      "  1.87393454 11.73124649  8.96053489 11.71270927]\n"
     ]
    }
   ],
   "source": [
    "import numpy as np\n",
    "import pandas as pd\n",
    "\n",
    "# Set seed for reproducibility\n",
    "np.random.seed(42)\n",
    "\n",
    "# Generate 10 observations for two continuous independent variables\n",
    "x1 = np.random.uniform(0, 10, 10)\n",
    "x2 = np.random.uniform(0, 5, 10)\n",
    "\n",
    "# True coefficients\n",
    "beta_0 = 2.0   # intercept\n",
    "beta_1 = 1.5   # coefficient for x1\n",
    "beta_2 = -0.7  # coefficient for x2\n",
    "\n",
    "# Generate y with some random noise\n",
    "noise = np.random.normal(0, 1, 10)\n",
    "y = beta_0 + beta_1 * x1 + beta_2 * x2 + noise\n",
    "\n",
    "# data \n",
    "X = np.column_stack((np.ones(len(x1)), x1, x2))\n",
    "\n",
    "print(\"Indepenent variables:\")\n",
    "print(X)\n",
    "print(\"Dependent variable:\")\n",
    "print(y)"
   ]
  },
  {
   "cell_type": "code",
   "execution_count": 41,
   "metadata": {},
   "outputs": [
    {
     "data": {
      "text/plain": [
       "array([[ 10.        ,  52.0136736 ,  19.76339204],\n",
       "       [ 52.0136736 , 360.33620654, 133.06598245],\n",
       "       [ 19.76339204, 133.06598245,  59.63046475]])"
      ]
     },
     "execution_count": 41,
     "metadata": {},
     "output_type": "execute_result"
    }
   ],
   "source": [
    "X.T @ X"
   ]
  },
  {
   "cell_type": "code",
   "execution_count": 42,
   "metadata": {},
   "outputs": [
    {
     "data": {
      "text/plain": [
       "array([[ 0.40608752, -0.05067574, -0.02150661],\n",
       "       [-0.05067574,  0.02209717, -0.03251455],\n",
       "       [-0.02150661, -0.03251455,  0.09645445]])"
      ]
     },
     "execution_count": 42,
     "metadata": {},
     "output_type": "execute_result"
    }
   ],
   "source": [
    "np.linalg.inv(X.T @ X)"
   ]
  },
  {
   "cell_type": "code",
   "execution_count": 43,
   "metadata": {},
   "outputs": [
    {
     "data": {
      "text/plain": [
       "array([[ 0.21407301, -0.17999139, -0.05437095,  0.0798794 ,  0.30747172,\n",
       "         0.30731409,  0.34393712, -0.08928235,  0.05501965,  0.01594971],\n",
       "       [ 0.02874056,  0.00172435, -0.02425825,  0.04709031, -0.04575982,\n",
       "        -0.04602194, -0.0873024 ,  0.05541361,  0.0119312 ,  0.05844236],\n",
       "       [-0.1333593 ,  0.13713355,  0.14195286, -0.11375244,  0.01545377,\n",
       "         0.01622338,  0.10633535, -0.05006439, -0.00864133, -0.11128146]])"
      ]
     },
     "execution_count": 43,
     "metadata": {},
     "output_type": "execute_result"
    }
   ],
   "source": [
    "np.linalg.inv(X.T @ X) @ X.T"
   ]
  },
  {
   "cell_type": "code",
   "execution_count": 44,
   "metadata": {},
   "outputs": [
    {
     "data": {
      "text/plain": [
       "array([ 2.1666836 ,  1.28541826, -0.40022204])"
      ]
     },
     "execution_count": 44,
     "metadata": {},
     "output_type": "execute_result"
    }
   ],
   "source": [
    "np.linalg.inv(X.T @ X) @ X.T @ y"
   ]
  }
 ],
 "metadata": {
  "kernelspec": {
   "display_name": ".venv",
   "language": "python",
   "name": "python3"
  },
  "language_info": {
   "codemirror_mode": {
    "name": "ipython",
    "version": 3
   },
   "file_extension": ".py",
   "mimetype": "text/x-python",
   "name": "python",
   "nbconvert_exporter": "python",
   "pygments_lexer": "ipython3",
   "version": "3.13.1"
  }
 },
 "nbformat": 4,
 "nbformat_minor": 2
}
