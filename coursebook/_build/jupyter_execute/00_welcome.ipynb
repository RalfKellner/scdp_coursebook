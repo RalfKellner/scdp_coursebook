{
 "cells": [
  {
   "cell_type": "markdown",
   "metadata": {},
   "source": [
    "# Welcome\n",
    "\n",
    "Hello and welcome to the course *Scientific Computing and Digital Reporting with Python*. This course is intended to give you a solid introduction into python programming and equip you with fundamental knowledge how to use python for fundamental methododical aspects which are useful in the domain of business administration, economics and information systems. In short the course contains:\n",
    "\n",
    "- python programming\n",
    "- mathematical and statistical fundamentals\n",
    "- data collecting and handling\n",
    "- visualization \n",
    "- statistical modeling and learning\n",
    "- digital reporting\n",
    "\n",
    "Once you completed this course, you will be able to collect data on your own, analyze it using appropriate methods, summarize and visualize results and report your results in approachable ways to third parties. "
   ]
  }
 ],
 "metadata": {
  "kernelspec": {
   "display_name": ".venv",
   "language": "python",
   "name": "python3"
  },
  "language_info": {
   "codemirror_mode": {
    "name": "ipython",
    "version": 3
   },
   "file_extension": ".py",
   "mimetype": "text/x-python",
   "name": "python",
   "nbconvert_exporter": "python",
   "pygments_lexer": "ipython3",
   "version": "3.13.1"
  }
 },
 "nbformat": 4,
 "nbformat_minor": 2
}