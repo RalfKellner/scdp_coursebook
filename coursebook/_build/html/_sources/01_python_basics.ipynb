{
 "cells": [
  {
   "cell_type": "markdown",
   "metadata": {},
   "source": [
    "# How to use and install python\n",
    "\n",
    "Python (from the comedy group Monty Python) is an interpreted programming language, meaning the written code needs to be \"translated\" to commands for the machine by a so called interpreter in order to be run. This apparent detour however makes for a better readability, writability and error location for us humans. Python is free to use and it's also free to contribute by writing own packages. A plethora of powerful packages are available which is one of the reasons for python's large popularity.\n",
    "\n",
    "There are many different ways to use python. The easiest and quickest way is to run it on external servers which include pre-defined environments. If you have a Google account you may want to go to your Google drive and open a Google Colaboratory as shown below."
   ]
  },
  {
   "cell_type": "code",
   "execution_count": 1,
   "metadata": {},
   "outputs": [
    {
     "ename": "ModuleNotFoundError",
     "evalue": "No module named 'PIL'",
     "output_type": "error",
     "traceback": [
      "\u001b[31m---------------------------------------------------------------------------\u001b[39m",
      "\u001b[31mModuleNotFoundError\u001b[39m                       Traceback (most recent call last)",
      "\u001b[36mCell\u001b[39m\u001b[36m \u001b[39m\u001b[32mIn[1]\u001b[39m\u001b[32m, line 1\u001b[39m\n\u001b[32m----> \u001b[39m\u001b[32m1\u001b[39m \u001b[38;5;28;01mfrom\u001b[39;00m\u001b[38;5;250m \u001b[39m\u001b[34;01mPIL\u001b[39;00m\u001b[38;5;250m \u001b[39m\u001b[38;5;28;01mimport\u001b[39;00m Image\n\u001b[32m      2\u001b[39m \u001b[38;5;28;01mfrom\u001b[39;00m\u001b[38;5;250m \u001b[39m\u001b[34;01mIPython\u001b[39;00m\u001b[34;01m.\u001b[39;00m\u001b[34;01mdisplay\u001b[39;00m\u001b[38;5;250m \u001b[39m\u001b[38;5;28;01mimport\u001b[39;00m display\n\u001b[32m      4\u001b[39m img = Image.open(\u001b[33m\"\u001b[39m\u001b[33mgraphics/google_colab.png\u001b[39m\u001b[33m\"\u001b[39m)\n",
      "\u001b[31mModuleNotFoundError\u001b[39m: No module named 'PIL'"
     ]
    }
   ],
   "source": [
    "from PIL import Image\n",
    "from IPython.display import display\n",
    "\n",
    "img = Image.open(\"graphics/google_colab.png\")\n",
    "img = img.resize((int(img.width / 3), int(img.height / 3)))\n",
    "display(img)\n"
   ]
  },
  {
   "cell_type": "markdown",
   "metadata": {},
   "source": [
    "Google colaboraties are in notebook format which include cells where python code can be execute and cells which can be used for writing text in, e.g., markdown format. While this is very useful and provides easy access, we aim to build a deeper understanding for python which is why we install it locally on your computer. This can be done in various ways. You need to install a python interpreter which can be accessed by different working environments. A simple way is to install the Anaconda distribution which not only installs the python interpreter, but, also many other packages and environments. Personally, I prefer to keep it a little cleaner which means installing the python interpreter first and choosing a development environment which you like. In my case, it is the combination of Python with VS Code. Another popular developer environment is PyCharm. I am going to assist your installation in the first week of the course. A good explanation can be found [here](https://code.visualstudio.com/docs/python/python-tutorial)."
   ]
  },
  {
   "cell_type": "markdown",
   "metadata": {},
   "source": [
    "# Python basics\n",
    "\n",
    "This course mostly uses jupyter notebooks and we are going to take a look at scripts later. In notebooks, code is written in cells, which can be run independently. \n",
    "To run a cell, one can use the run symbol above the cells by clicking on it. A more convenient way is again using the corresponding keyboard shortcut: holding *shift* and  pressing *enter* (or *control* for mac users). For instance, executing the next cell, prints the python version which is used."
   ]
  },
  {
   "cell_type": "code",
   "execution_count": null,
   "metadata": {},
   "outputs": [],
   "source": [
    "import sys\n",
    "\n",
    "sys.version"
   ]
  },
  {
   "cell_type": "code",
   "execution_count": null,
   "metadata": {
    "scrolled": true
   },
   "outputs": [],
   "source": [
    "import this"
   ]
  },
  {
   "cell_type": "markdown",
   "metadata": {},
   "source": [
    "## Basic Python\n",
    "\n",
    "Just starting a notebook and thus a python kernel already allows several basic operations. The perhaps most obvious functionality would be to use a cell to calculate a mathematical expression. To do so, just enter the expression and run the cell:"
   ]
  },
  {
   "cell_type": "code",
   "execution_count": null,
   "metadata": {},
   "outputs": [],
   "source": [
    "999+1"
   ]
  },
  {
   "cell_type": "code",
   "execution_count": null,
   "metadata": {},
   "outputs": [],
   "source": [
    "# comments inside the cell, starting with '#' help readers to understand your code. \n",
    "# These lines are not run! \n",
    "2 * (2 + 2) - 4"
   ]
  },
  {
   "cell_type": "markdown",
   "metadata": {},
   "source": [
    "While jupyter will print the result of such one line expressions immediately, writing both expressions in one cell will print only the last computed result:"
   ]
  },
  {
   "cell_type": "code",
   "execution_count": null,
   "metadata": {},
   "outputs": [],
   "source": [
    "999+1\n",
    "2 * (2 + 2) - 4"
   ]
  },
  {
   "cell_type": "markdown",
   "metadata": {},
   "source": [
    "In the common case, where code inside one cell will exceed one line or will produce more than just on result, the ```print()``` function can be used. Functions in python get their parameters in parentheses (more on functions later):"
   ]
  },
  {
   "cell_type": "code",
   "execution_count": null,
   "metadata": {},
   "outputs": [],
   "source": [
    "print(999+1)\n",
    "print(2 * (2 + 2) - 4)"
   ]
  },
  {
   "cell_type": "markdown",
   "metadata": {},
   "source": [
    "Some basic operations and functions are"
   ]
  },
  {
   "cell_type": "code",
   "execution_count": null,
   "metadata": {},
   "outputs": [],
   "source": [
    "print('Addition:',       1 + 1 )      \n",
    "print('Subtraction:',    2 - 1 )      \n",
    "print('Division:',       1 / 2 )      \n",
    "print('Multiplication:', 2 * 1 )      \n",
    "print('Modulus:',        3 % 2 )      \n",
    "print('Floor division:', 5 // 2 )     \n",
    "print('Exponent:',       2 ** 3 )     \n",
    "print('Minimum:',       min(2,5))\n",
    "print('Maximum:',       max(2,5))"
   ]
  },
  {
   "cell_type": "markdown",
   "metadata": {},
   "source": [
    "Autocompletion is a very useful tool for writing code. Not only will it provide already defined variables. It will also show you available methods on different objects (more on objects later).\n",
    "\n",
    "Autocompletion or suggestions for completion will appear when pressing **tab** in code, as long as it is not the beginning of a line (where it will indent the line, see loops, functions).\\\n",
    "For instance, when typing ```pri``` and hitting **tab**, jupyter will complete it to ```print```."
   ]
  },
  {
   "cell_type": "markdown",
   "metadata": {},
   "source": [
    "### Help\n",
    "In order to get information, for example on the ```print()```function, help can be summoned by using yet another function:"
   ]
  },
  {
   "cell_type": "code",
   "execution_count": null,
   "metadata": {},
   "outputs": [],
   "source": [
    "help(print)"
   ]
  },
  {
   "cell_type": "markdown",
   "metadata": {},
   "source": [
    "### Data Types\n",
    "\n",
    "The most basic data types in python are numeric, string and boolean. However, there are many, many more. In order for many operations to work properly, the data types must be compatible with one another. With the ```type()``` function the datatype of an object can be printed. "
   ]
  },
  {
   "cell_type": "code",
   "execution_count": null,
   "metadata": {},
   "outputs": [],
   "source": [
    "a = 1\n",
    "b = 1.0\n",
    "c = 'two'\n",
    "d = True\n",
    "print('a:', type(a))\n",
    "print('b:', type(b))\n",
    "print('c:', type(c))\n",
    "print('d:', type(d))"
   ]
  },
  {
   "cell_type": "markdown",
   "metadata": {},
   "source": [
    "Changing the type of a variable can be achieved by the respective functions:"
   ]
  },
  {
   "cell_type": "code",
   "execution_count": null,
   "metadata": {},
   "outputs": [],
   "source": [
    "print(int(3.14))\n",
    "\n",
    "f = \"2.5\"\n",
    "print(10 + float(f))"
   ]
  },
  {
   "cell_type": "markdown",
   "metadata": {},
   "source": [
    "Some mathematical operations can also be applied to strings/lists:"
   ]
  },
  {
   "cell_type": "code",
   "execution_count": null,
   "metadata": {},
   "outputs": [],
   "source": [
    "a = 'Who would '\n",
    "b = 'have thought'\n",
    "c = '?'\n",
    "print(a+b+(c*5))"
   ]
  },
  {
   "cell_type": "markdown",
   "metadata": {},
   "source": [
    "## Packages and Modules\n",
    "\n",
    "Python's functionality can be expanded by loading modules to the namespace. A module may be seen as a chunk of python code for a special task someone has already written for you to use while package signifies the inclusion of the underlying file structure to load the modules. \n",
    "\n",
    "In order to make a module's complete functionality available, it has to be loaded to the namespace trailing the ```import``` statement. Calling a module function in this case requires the module name with a dot before the function: ```package.function()```. \n",
    "\n",
    "A module can be imported under an alias, using the ```as``` statement. This can help someone reading your code to know from which module a function is imported while keeping the code shorter and thus better readable.\n",
    "\n",
    ":::{admonition} Tip \n",
    ":class: tip\n",
    "By convention all imports are done at the beginning of the code.\n",
    ":::"
   ]
  },
  {
   "cell_type": "code",
   "execution_count": null,
   "metadata": {},
   "outputs": [],
   "source": [
    "import math\n",
    "print(math.sqrt(4))\n",
    "\n",
    "import numpy as np\n",
    "print(np.sqrt(4.0))"
   ]
  },
  {
   "cell_type": "markdown",
   "metadata": {},
   "source": [
    "To import a single function (or class) from a module one calls ```from <module> import <function>```. Here, the module's name does not need to be added when calling the function. Similarly, an asterisk can be used as a wild card, as in ```from <package> import *```, to import all functions (classes) from one module (so not to add the module prefix every time in the code). \\\n",
    "The following examples uses the ```math``` module, which contains functions such as the sine, cosine or square root."
   ]
  },
  {
   "cell_type": "code",
   "execution_count": null,
   "metadata": {},
   "outputs": [],
   "source": [
    "from math import sqrt\n",
    "print(sqrt(4))"
   ]
  },
  {
   "cell_type": "markdown",
   "metadata": {},
   "source": [
    ":::{admonition} Note\n",
    "Calling a function which is not imported results in an error.\n",
    "    \n",
    "Usually, python is rather explicit in where to look for your mistake.\n",
    ":::"
   ]
  },
  {
   "cell_type": "code",
   "execution_count": null,
   "metadata": {
    "scrolled": true
   },
   "outputs": [],
   "source": [
    "#print(cos(0))    # would raise error as cos() function is not imported"
   ]
  },
  {
   "cell_type": "markdown",
   "metadata": {},
   "source": [
    "![](graphics/cos_error.png)"
   ]
  },
  {
   "cell_type": "markdown",
   "metadata": {},
   "source": [
    "With the wild card, all functions from the math module are now loaded to the namespace."
   ]
  },
  {
   "cell_type": "code",
   "execution_count": null,
   "metadata": {},
   "outputs": [],
   "source": [
    "from math import *\n",
    "cos(0)"
   ]
  },
  {
   "cell_type": "markdown",
   "metadata": {},
   "source": [
    "## Variables\n",
    "\n",
    "Objects can be stored in variables by assigning them using ```=```. Since everything in python is an object, anything can be saved in a variable: numbers, strings, lists, etc. Python will automatically recognize the format of a variable to let the user know about incompatibilities. Calling a variable before it is assigned will also throw an error.\n",
    "\n",
    "Note that python is case sensitive, meaning that when assigning variables a ≠ A."
   ]
  },
  {
   "cell_type": "code",
   "execution_count": null,
   "metadata": {},
   "outputs": [],
   "source": [
    "var_1 = 5 ** 2\n",
    "print(var_1)\n",
    "var_2 = 'twenty five'\n",
    "print(var_2)"
   ]
  },
  {
   "cell_type": "markdown",
   "metadata": {},
   "source": [
    ":::{admonition} Caution\n",
    ":class: caution\n",
    "Do not name your variables like built-in python objects!\n",
    ":::\n",
    "In jupyter notebooks, built-in objects are automatically coloured green.\n",
    "For example:"
   ]
  },
  {
   "cell_type": "code",
   "execution_count": null,
   "metadata": {},
   "outputs": [],
   "source": [
    "list\n",
    "int\n",
    "dict"
   ]
  },
  {
   "cell_type": "markdown",
   "metadata": {},
   "source": [
    "## Logical Conditions\n",
    "\n",
    "\n",
    "In order to compare values, logical operators can be used. The most common are\n",
    "\n",
    "| Operator   | Meaning |\n",
    "| :--------- | ------: |\n",
    "| ==  | equal  |\n",
    "| !=  | not equal  |\n",
    "| >  | greater than |\n",
    "| <  | less than |\n",
    "| >=  | greater than or equal to |\n",
    "| <=  | less than or equal to |\n",
    "\n",
    "The result will be a boolean: either ```True``` or ```False```. \n",
    "\n",
    "Comparing statements may also be combined by ```and``` or ```or``` and can be negated by ```not```."
   ]
  },
  {
   "cell_type": "code",
   "execution_count": null,
   "metadata": {},
   "outputs": [],
   "source": [
    "a = (1<2)\n",
    "b = (0 == 1)\n",
    "print(a, b)\n",
    "print(a and b)\n",
    "print(a or b)"
   ]
  },
  {
   "cell_type": "markdown",
   "metadata": {},
   "source": [
    "## Branching\n",
    "\n",
    "In a program, code must often be run conditionally on some input or previous result. The ```if```, ```else``` and ```elif```statement can be used to select which branch of code shall be run. The condition is followed by a colon and the respective code for that condition must be indented (automatically with a line break or by pressing ***tab***).\n",
    "\n",
    ":::{admonition} Caution\n",
    ":class: caution\n",
    "Indentation is not to be used for better readability. \n",
    "    \n",
    "Instead, it has a function and must not be used when not necessary!\n",
    ":::"
   ]
  },
  {
   "cell_type": "code",
   "execution_count": null,
   "metadata": {},
   "outputs": [],
   "source": [
    "a = 4\n",
    "\n",
    "if a < 0:\n",
    "    print('a is negative')\n",
    "elif a > 0:\n",
    "    print('a is positive')\n",
    "else:\n",
    "    print('a equals zero')"
   ]
  },
  {
   "cell_type": "markdown",
   "metadata": {},
   "source": [
    "## Lists and Tuples\n",
    "\n",
    "Lists and tuples are both an ordered collection of objects. While tuples cannot be modified, lists are rather flexible. Objects can be added to a list, removed or replaced. Lists appear in square brackets ```[]```, tuples in parentheses ```()```.\n",
    "\n",
    "Lists and tuples can be nested, meaning elements of a list or tuple can again be a list or tuple. Duplicates are also allowed. (A ```set()``` would not allow duplicates and is not ordered).\n",
    "\n",
    "Elements can be accessed by indexing with square brackets behind the list name.\n",
    "\n",
    "\n",
    ":::{admonition} Note\n",
    "Indexing in python starts with zero, so the first element of a list will have index 0.\n",
    ":::"
   ]
  },
  {
   "cell_type": "code",
   "execution_count": null,
   "metadata": {},
   "outputs": [],
   "source": [
    "my_list = [1,2,0,4,5]\n",
    "my_tuple = ('a', 'b', 'c')\n",
    "\n",
    "# length of object:\n",
    "print('0. the length of my list is', len(my_list),', the length of the word \"list\"', len('list'))\n",
    "\n",
    "# access first element\n",
    "print('1. first element from my_list:', my_list[0])\n",
    "\n",
    "# print variables more conveniently\n",
    "print(f'2. second element of my_tuple: {my_tuple[1]}')\n",
    "\n",
    "# to change an element\n",
    "my_list[2] = 3\n",
    "print(f'3. changing the third element in my_list: {my_list}')\n",
    "\n",
    "# note that strings are lists of characters:\n",
    "my_str = 'expression'\n",
    "print(f'4. first letter in my_str: {my_str[0]}')\n",
    "\n",
    "# last element \n",
    "print(f'5. last element of my_tuple: {my_tuple[-1]}')\n",
    "\n",
    "# slicing\n",
    "print(f'6. from element 3 to end of my_list: {my_list[2:]}')\n",
    "\n",
    "# reverse order\n",
    "print(f'7. reverse order of my_list and slice: {my_list[3::-1]}')\n",
    "\n",
    "# delete element\n",
    "del(my_list[4])\n",
    "print(f'8. add new element: {my_list}')"
   ]
  },
  {
   "cell_type": "markdown",
   "metadata": {},
   "source": [
    "Lists also allow for element checks using ```in``` (negated by ```not```):"
   ]
  },
  {
   "cell_type": "code",
   "execution_count": null,
   "metadata": {},
   "outputs": [],
   "source": [
    "my_list = [1,2,3,4]\n",
    "\n",
    "if 2 in my_list:\n",
    "    print('2 is an element of my_list')\n",
    "    \n",
    "if 10 in my_list:\n",
    "    print('10 is an element of my_list')"
   ]
  },
  {
   "cell_type": "markdown",
   "metadata": {},
   "source": [
    "Beside definition by hand, the the functions ```list()``` and ```tuple()``` can be used to transform a suitable object to a list or tuple."
   ]
  },
  {
   "cell_type": "code",
   "execution_count": null,
   "metadata": {},
   "outputs": [],
   "source": [
    "print(tuple(my_list))\n",
    "print(list('python'))"
   ]
  },
  {
   "cell_type": "markdown",
   "metadata": {},
   "source": [
    "## Dictionaries\n",
    "\n",
    "Dictionaries allow to store *key - value* pairs in a kind of named list fashion. By convention the *key* element is of type string, while the *value* can be any object (including dictionaries). To define a dictionary, inside curly braces ```{}```, the *key* element is followed by a colon and the *value*. The *keys* must be unique in a dictionary, since the *value* elements are accessed via the respective *key*: as in lists, one uses square brackets. Yet not with an index number but the desired *key*.\n",
    "\n",
    "New key-value pairs can be added to a dict in a similar way as they are accessed. The new *key* in square brackets follows the dict name and a *value* is assigned by an equal sign.\n",
    "\n",
    "Dictionaries are not ordered, as can be seen from the way of accessing and adding new k-v pairs."
   ]
  },
  {
   "cell_type": "code",
   "execution_count": null,
   "metadata": {},
   "outputs": [],
   "source": [
    "my_dict = {'start': 1, 'end': 20}\n",
    "print(my_dict['start'])\n",
    "\n",
    "# new k-v pair\n",
    "my_dict['mid'] = 10\n",
    "print(my_dict)"
   ]
  },
  {
   "cell_type": "markdown",
   "metadata": {},
   "source": [
    "All *keys* and *value* can be accessed with the ```.keys()``` and ```.values()``` method (more on methods later)."
   ]
  },
  {
   "cell_type": "code",
   "execution_count": null,
   "metadata": {},
   "outputs": [],
   "source": [
    "print(my_dict.keys(), my_dict.values())"
   ]
  },
  {
   "cell_type": "markdown",
   "metadata": {},
   "source": [
    "## (Un)packing\n",
    "\n",
    "Python allows to assign multiple variables at once, called (un)packing. This is most common with tuples but can be expanded to other iterables. The variables to be assigned are separated by a comma. "
   ]
  },
  {
   "cell_type": "code",
   "execution_count": null,
   "metadata": {},
   "outputs": [],
   "source": [
    "my_tuple = ('one', 2, 'three')\n",
    "a, b, c = my_tuple\n",
    "print(a, b, c)\n",
    "\n",
    "# the asterisk assigns all surplus values on the right hand side of the equal sign to a\n",
    "*a, b = 1, 2, 3, 4\n",
    "print(a ,b)"
   ]
  },
  {
   "cell_type": "markdown",
   "metadata": {},
   "source": [
    "## Loops\n",
    "\n",
    "### for-loop\n",
    "\n",
    "A for-loop is used for iteration, if the number of iterations is known prior to execution. A for loop iterates over any sequence like lists, tuples, strings etc. A common way is to loop over a ```range(n)``` object. Caution: indexing starts from 0 and for range objects ends at ```n-1```!\n",
    "\n",
    "Note that when iterating a list or tuple it might be worth considering to choose an informative name (especially when nesting loops).\n",
    "\n",
    "To write a loop, ```for``` is followed by the iterating variable, ```in``` and the sequence to iterate before a colon. The code to execute every step begins in the next line and is indented.  "
   ]
  },
  {
   "cell_type": "code",
   "execution_count": null,
   "metadata": {},
   "outputs": [],
   "source": [
    "# range object for iterating numbers\n",
    "for i in range(5):\n",
    "    print(f'{i} squared is {i**2}')  \n",
    "print('')\n",
    "\n",
    "# iterate over a tuple/list\n",
    "for tuple_element in my_tuple:\n",
    "    print(tuple_element)\n",
    "print('')\n",
    "# iterate over tuple/list element and index\n",
    "for i, tup_el in enumerate(my_tuple):\n",
    "    print(f'{tup_el} at position {i}')\n",
    "print('')  \n",
    "# iterate over keys and values in dict\n",
    "for k,v in my_dict.items():\n",
    "    print(f'key: {k}, value: {v} ')"
   ]
  },
  {
   "cell_type": "markdown",
   "metadata": {},
   "source": [
    "### while-loop\n",
    "\n",
    "When the number of iterations for a loop is not knwon beforehand, a while-loop can be used. It will run, until a terminal state is reached or some criterion is satisfied. Usually, an initial state is given which will be altered by some operation and thus lead to termination.\n",
    "\n",
    "A while-loop start with ```while``` followed by the condition and a colon. The condition may be negated with ```not```.\n",
    "\n",
    ":::{admonition} Warning\n",
    ":class: warning\n",
    "Infinit loops may occur when the terminal criterion is not properly defined or the code is otherwise defective.\n",
    ":::\n"
   ]
  },
  {
   "cell_type": "code",
   "execution_count": null,
   "metadata": {},
   "outputs": [],
   "source": [
    "a = 0\n",
    "while a < 4:\n",
    "    print(a)\n",
    "    # use combined operator a += 1, equal to a = a + 1\n",
    "    a += 1      # when not including this line, a will forever stay a = 0 and the loop will not terminate by itself\n",
    "                # What will be printed in this case?\n",
    "    \n",
    "var = 5\n",
    "check = True\n",
    "while check:\n",
    "    print(f'{var} is greater zero')\n",
    "    var -= 1 \n",
    "    check = var > 0\n"
   ]
  },
  {
   "cell_type": "markdown",
   "metadata": {},
   "source": [
    "## List comprehension\n",
    "Python offers a handy way to create lists. It looks like a for-loop in a list and is called list comprehension. It is written in one line instead of indenting as in ordinary for-loops. These expression can also be nested."
   ]
  },
  {
   "cell_type": "code",
   "execution_count": null,
   "metadata": {},
   "outputs": [],
   "source": [
    "list_1 = [i for i in range(5)]\n",
    "print('list_1:', list_1)\n",
    "\n",
    "# a nested expression\n",
    "list_2 = [[i*j for i in list_1] for j in [0,1]]\n",
    "print('list_2:', list_2)"
   ]
  },
  {
   "cell_type": "markdown",
   "metadata": {},
   "source": [
    "## Dict comprehension\n",
    "\n",
    "Analogous to list comprehension, we can create dictionaries with key and value pairs.\n",
    "For example from the list above:"
   ]
  },
  {
   "cell_type": "code",
   "execution_count": null,
   "metadata": {},
   "outputs": [],
   "source": [
    "dict_1 = {str(k): k**2 for k in list_1}\n",
    "print(dict_1)\n",
    "print(dict_1['3'])"
   ]
  },
  {
   "cell_type": "markdown",
   "metadata": {},
   "source": [
    "### break and continue\n",
    "\n",
    "For more control over a loop, the ```break```and ```continue``` statements can be engaged. Used with a condition, ```break``` will terminate the loop when satisfied while ```continue``` will stop and skip the current iteration to jump to the next."
   ]
  },
  {
   "cell_type": "code",
   "execution_count": null,
   "metadata": {},
   "outputs": [],
   "source": [
    "for i in range(100):\n",
    "    if i % 2 != 0:    # % is the modulo operator\n",
    "        continue      # continue in the if-statement skips printing for odd i\n",
    "    print(f'{i} is even')\n",
    "    if i == 8:        # when i equals 8, the loop terminates (the print statement for i == 8 is executed before)\n",
    "        break"
   ]
  },
  {
   "cell_type": "markdown",
   "metadata": {},
   "source": [
    "## Functions\n",
    "\n",
    "Python come with many built in functions, some of which have been shown or used before, as well as the option to define new functions.\n",
    "\n",
    "To define a function, use ```def function_name(args):``` before the indented body of the function begins in a new line. ```args``` here means arguments, which are passed to function. \n",
    "\n",
    "Note that a function must not necessarily be defined using arguments."
   ]
  },
  {
   "cell_type": "code",
   "execution_count": null,
   "metadata": {},
   "outputs": [],
   "source": [
    "def my_print(word):\n",
    "    print(word)\n",
    "    \n",
    "my_print('Greetings')\n",
    "\n",
    "def print_hi():\n",
    "    print('hi')\n",
    "    \n",
    "print_hi()"
   ]
  },
  {
   "cell_type": "markdown",
   "metadata": {},
   "source": [
    "### Return\n",
    "\n",
    "To assign the result of a function to a variable for further use, the ```return``` keyword is used. If more than one object is to be returned, use commas to separate them.\n",
    "\n",
    "The ```return``` statement is indented at least once from ```def```, even more than once when using branching, for example.\n",
    "With branching, several return statements may appear in one function. \n",
    "\n",
    "The ```return``` command must not be confused with a ```print()``` statement! "
   ]
  },
  {
   "cell_type": "code",
   "execution_count": null,
   "metadata": {},
   "outputs": [],
   "source": [
    "import numpy as np\n",
    "\n",
    "data = [1,2,3,4,5,6,7]\n",
    "print(np.mean(data))\n",
    "\n",
    "def my_mean(arg_list):\n",
    "    sum_ = 0\n",
    "    length_count = 0\n",
    "    for el in arg_list:\n",
    "        sum_ += el\n",
    "        length_count += 1\n",
    "    return sum_/length_count\n",
    "\n",
    "print(my_mean(data))"
   ]
  },
  {
   "cell_type": "markdown",
   "metadata": {},
   "source": [
    "### Yield\n",
    "\n",
    "Besides ```return```, another option is ```yield```. The main difference is that ```return``` will do a calculation and send the result back at once, while when using ```yield``` a **generator object** is created and results can be returned sequentially.\n",
    "\n",
    "Comparing the following two examples, the ```return_list``` function stores the complete list in the memory, while the ```yield_list``` function does not. Instead, it returns the values one after another (when using the ```next()``` function or a loop) remembering the current state of the function."
   ]
  },
  {
   "cell_type": "code",
   "execution_count": null,
   "metadata": {},
   "outputs": [],
   "source": [
    "def return_list(n):\n",
    "    return [i for i in range(n)]\n",
    "\n",
    "def yield_list(n):    # function mimics range()\n",
    "    i = 0\n",
    "    while i < n:\n",
    "        yield i\n",
    "        i += 1"
   ]
  },
  {
   "cell_type": "code",
   "execution_count": null,
   "metadata": {},
   "outputs": [],
   "source": [
    "return_list(5)"
   ]
  },
  {
   "cell_type": "code",
   "execution_count": null,
   "metadata": {},
   "outputs": [],
   "source": [
    "yield_list(5)   # creates a generator object"
   ]
  },
  {
   "cell_type": "code",
   "execution_count": null,
   "metadata": {},
   "outputs": [],
   "source": [
    "gen = yield_list(5)    # assign generator object to variable"
   ]
  },
  {
   "cell_type": "code",
   "execution_count": null,
   "metadata": {},
   "outputs": [],
   "source": [
    "print(next(gen))    # call next() to jump to next 'yield'\n",
    "print(next(gen))    # only one value in memory\n",
    "print(next(gen)) # another next() throws error because the generator is depleted after 4!"
   ]
  },
  {
   "cell_type": "markdown",
   "metadata": {},
   "source": [
    "Since the state of the generator is remembered and we have already moved beyond 2 using ```next()```, the following for loop 'finishes' the generator:"
   ]
  },
  {
   "cell_type": "code",
   "execution_count": null,
   "metadata": {},
   "outputs": [],
   "source": [
    "for i in gen:\n",
    "    print(i)"
   ]
  },
  {
   "cell_type": "markdown",
   "metadata": {},
   "source": [
    "Generator object can be useful when working with huge files which do not fit into memory."
   ]
  },
  {
   "cell_type": "markdown",
   "metadata": {},
   "source": [
    "For functions with several arguments, the order of inputs is important. They will be read according to the function definition. When the arguments are specified in the function call, the input order does not matter."
   ]
  },
  {
   "cell_type": "code",
   "execution_count": null,
   "metadata": {},
   "outputs": [],
   "source": [
    "def divide(numer, denom):\n",
    "    return numer / denom\n",
    "\n",
    "print(divide(10,2))\n",
    "print(divide(2,10))\n",
    "\n",
    "print(divide(denom=2, numer=10))"
   ]
  },
  {
   "cell_type": "markdown",
   "metadata": {},
   "source": [
    "Default values for a function can be set. If an argument is not specified when calling the function, the default value will be used."
   ]
  },
  {
   "cell_type": "code",
   "execution_count": null,
   "metadata": {},
   "outputs": [],
   "source": [
    "def divide(numer, denom = 1):\n",
    "    return numer / denom\n",
    "print(divide(numer=10))"
   ]
  },
  {
   "cell_type": "markdown",
   "metadata": {},
   "source": [
    "More advanced function writing involves recursion, meaning python allows a function to call itself."
   ]
  },
  {
   "cell_type": "code",
   "execution_count": null,
   "metadata": {},
   "outputs": [],
   "source": [
    "import math\n",
    "\n",
    "def my_factorial(n):\n",
    "    if n == 0:\n",
    "        return 1\n",
    "    else:\n",
    "        return n * my_factorial(n-1)\n",
    "    \n",
    "print(my_factorial(5))\n",
    "print(math.factorial(5))"
   ]
  },
  {
   "cell_type": "markdown",
   "metadata": {},
   "source": [
    "### Global and Local Variables\n",
    "\n",
    "Variables can be defined globally, i.e. outside of functions. A variable defined inside a function will only exist inside the scope of the function. Should a local variable be given the same name as a global variable, the function will use the value locally defined!\n",
    "\n",
    "Global variables inside functions can be defined using the ```global``` keyword before the respective variables."
   ]
  },
  {
   "cell_type": "code",
   "execution_count": null,
   "metadata": {},
   "outputs": [],
   "source": [
    "x = 7\n",
    "def f_1():\n",
    "    print('calling f_1, x =',x)\n",
    "\n",
    "f_1()\n",
    "    \n",
    "def f_2():\n",
    "    x = 10\n",
    "\n",
    "f_2()\n",
    "print('after calling f_2: x =', x)\n",
    "    \n",
    "def f_3():\n",
    "    x = 10\n",
    "    print('calling f_3: x =', x)\n",
    "    \n",
    "f_3()\n",
    "print('after calling f_3: x =', x)\n",
    "    \n",
    "def f_4():\n",
    "    global x\n",
    "    x = 10\n",
    "\n",
    "f_4()\n",
    "print('after calling f_4: x =', x)"
   ]
  },
  {
   "cell_type": "markdown",
   "metadata": {},
   "source": [
    "## Lambda functions\n",
    "It might occur that a function is needed which is only needed once and has only a limited functionality. To spare you and the reader of the code from jumping to a block of defining such a function you can use a **lambda function**. They are written in-line by the keyword ```lambda```, followed by the parameters and a colon before the body.\n",
    "\n",
    "Arguments are passed in parentheses as usual.\n",
    "\n",
    ":::{admonition} Note\n",
    "The lambda syntax should only be used for simple functions!\n",
    ":::"
   ]
  },
  {
   "cell_type": "code",
   "execution_count": null,
   "metadata": {},
   "outputs": [],
   "source": [
    "from math import exp\n",
    "\n",
    "# regular way\n",
    "def reg_func(x):\n",
    "    return 1/exp(x)\n",
    "print(reg_func(.5))\n",
    "\n",
    "#lambda function with identifier \n",
    "l_func = lambda x: 1/exp(x)        # this way, it is hard to find the origin of a function if it is called elewhere\n",
    "print(l_func(.5))                  # in your code. It is not recommended, yet still possible.\n",
    "\n",
    "# for single use, no identifier\n",
    "print((lambda x: 1/exp(x))(.5) )"
   ]
  },
  {
   "cell_type": "markdown",
   "metadata": {},
   "source": [
    "Lambda functions can be easily applied in combination with list comprehension, where the can be defined in place."
   ]
  },
  {
   "cell_type": "code",
   "execution_count": null,
   "metadata": {},
   "outputs": [],
   "source": [
    "# with list comprehension\n",
    "l_list = [(lambda x: 1/exp(x))(i) for i in list_1]\n",
    "print(l_list)\n",
    "\n",
    "# always consider doing it without a lambda function\n",
    "print([(1/exp(i)) for i in list_1])"
   ]
  },
  {
   "cell_type": "markdown",
   "metadata": {},
   "source": [
    "## Classes\n",
    "\n",
    "Since almost everything in python is an object, classes are a very important element to its functionality. A class can be seen as a constructor for certain objects.\n",
    "\n",
    "To define a class, the ```class``` keyword is followed by the class name. By convention, for class names the CamelCase style is used. "
   ]
  },
  {
   "cell_type": "code",
   "execution_count": null,
   "metadata": {},
   "outputs": [],
   "source": [
    "# define class Student\n",
    "\n",
    "class Student():\n",
    "    uni = 'Passau'\n",
    "    subject = 'math'\n",
    "    grades = [1.3, 1.7, 3.0]\n",
    "        \n",
    "# instantiate object  \n",
    "Chris = Student\n",
    "Tina = Student\n",
    "\n",
    "# get uni of student Chris\n",
    "print('Uni:', Chris.uni)\n",
    "\n",
    "# student changes subject\n",
    "Chris.subject = 'biology'\n",
    "\n",
    "print(\"Chris' subject:\", Chris.subject)\n",
    "print('class name:', Chris.__name__)\n",
    "\n",
    "print(\"Tina's subject:\", Tina.subject)"
   ]
  },
  {
   "cell_type": "markdown",
   "metadata": {},
   "source": [
    "Classes can not only store values but also functions, called methods. Methods are defined just like regular functions, but inside the class body. To make a class more useful (compared to the example above), the ```__init__()``` method is needed. As arguments, it takes ```self``` and all other arguments needed as input to build the object. ```self``` is used for instance variables, i.e. variables that belong to an object and not the whole class.\n",
    "\n",
    "Methods and class variables are chained by a ```.``` to the object.\n"
   ]
  },
  {
   "cell_type": "code",
   "execution_count": null,
   "metadata": {},
   "outputs": [],
   "source": [
    "import numpy as np\n",
    "\n",
    "class Student():\n",
    "    def __init__(self, uni, subject, grades):\n",
    "        self.uni = uni\n",
    "        self.subject = subject\n",
    "        self.grades = grades\n",
    "    \n",
    "    #define method to show average grade\n",
    "    def avg_grade(self):\n",
    "        return np.mean(self.grades)\n",
    "     \n",
    "Chris = Student('Passau', 'Art', [1.3, 1.7, 3.0])\n",
    "Tina = Student('Regensburg', 'Physics', [1.0, 2.0])\n",
    "\n",
    "Chris.subject = 'engineering'\n",
    "print(f'Chris: {Chris.subject}')\n",
    "print(f'Tina: {Tina.subject}')\n",
    "\n",
    "print(Chris.avg_grade())\n",
    "\n",
    "# lists have a built-in method append, which adds items given as arguments to the end of the list (see help(list))\n",
    "Chris.grades.append(5.0)\n",
    "print(Chris.avg_grade())"
   ]
  },
  {
   "cell_type": "markdown",
   "metadata": {},
   "source": [
    "### Inheritance\n",
    "\n",
    "Classes can inherit all properties from other classes by using the ```super()``` function in the constructor. This should be applied, if a new class should expand the functionality of the original class without wanting to change the original class. For example if a Student is also a resident: "
   ]
  },
  {
   "cell_type": "code",
   "execution_count": null,
   "metadata": {},
   "outputs": [],
   "source": [
    "class LocalResident(Student):\n",
    "    def __init__(self, uni, subject, grades, address):\n",
    "        super().__init__(uni, subject, grades)\n",
    "        self.address = address\n",
    "        \n",
    "Chris = LocalResident('Passau', 'Art', [1.3, 1.7, 3.0, 5.0], 'Innstr. 27')\n",
    "\n",
    "print(f\" Uni and address: {Chris.uni}, {Chris.address}\")\n",
    "print(type(Chris))"
   ]
  },
  {
   "cell_type": "markdown",
   "metadata": {},
   "source": [
    "## Files\n",
    "\n",
    "Regular python files end with *.py* and code can be written and read in any text editor. Only the suffix will tell the interpreter how to handle the file, in this case as a python script.\n",
    "\n",
    "Jupyter Notebook files end with *.ipynb*. The special cell-wise structure leads to more formatting effort which is stored in a .json format (see later chapters), meaning that when a *.ipynb* file is opened in an ordinary text editor, the structure will be very different from what is shown in this jupyter interface. \n",
    "\n",
    "Below a jupyter notebook is shown on the left. The formatting is seen on the right, where the *.ipynb* file was openened using a text editor. "
   ]
  },
  {
   "cell_type": "markdown",
   "metadata": {},
   "source": [
    "![](graphics/struc.png)"
   ]
  },
  {
   "cell_type": "markdown",
   "metadata": {},
   "source": [
    "## Virtual environments\n",
    "\n",
    "Even though it might be a little early to talk about virtual environments, I think it is helpful to know about them and use them from the beginning. Let us first talk about why we want to use them. Usually you will work with python in a project-oriented way. For instance, you may need to conduct certain data driven analysis for a seminar paper or you want to develop your powerful stock market trading strategy. Each project has its own goals and needs such as, e.g., getting and analyzing data by different models. \n",
    "\n",
    "The python distribution you installed is considered to be the *base* installation and comes along with some pre-installed packages which are listed in the [python standard library](https://docs.python.org/3/library/index.html). However, other useful packages must be installed before you can use them. For instance popular packages such as *numpy*, *scipy*, *pandas*, *scikit-learn*, etc. These packages are installed by a package manager which usually is the ```pip``` for must users (conda or poetry would be alternatives). Not only that different packages may be needed for different projects, sometimes different versions of a package must be installed for different projects. \n",
    "\n",
    "Thus, it is very useful if every project can have its own safe space with its packages and settings needed for the project. This is exactly which is enabled by virtual environments. They can be created in your project folder on top of the python base installation by the ```python -m venv your_environment_name``` command. Once they are activated (or in VS Code defined to be used for a notebook), everything which is done stays in this environment and does not impact the global python installation nor other projects and their virtual environments. We are going to go through the creation and usage of virtual environments in the course step by step, so do not worry!"
   ]
  },
  {
   "cell_type": "markdown",
   "metadata": {},
   "source": [
    ":::{admonition} Note\n",
    "It may be necessary to call python3 and pip3 instead of python and pip. This depends on the OS and some settings. Furthermore, python and pip commands need to be exectued in the terminal. If you want to execute them in a notebook you need to do it with an exclamation mark in the beginning of a cell, e.g.:\n",
    "\n",
    "!pip install numpy\n",
    ":::"
   ]
  }
 ],
 "metadata": {
  "kernelspec": {
   "display_name": ".venv",
   "language": "python",
   "name": "python3"
  },
  "language_info": {
   "codemirror_mode": {
    "name": "ipython",
    "version": 3
   },
   "file_extension": ".py",
   "mimetype": "text/x-python",
   "name": "python",
   "nbconvert_exporter": "python",
   "pygments_lexer": "ipython3",
   "version": "3.13.1"
  },
  "metadata": {
   "execution": {
    "allow_errors": true
   }
  }
 },
 "nbformat": 4,
 "nbformat_minor": 4
}
